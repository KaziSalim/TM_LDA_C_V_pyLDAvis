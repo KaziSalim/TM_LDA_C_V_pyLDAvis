{
 "cells": [
  {
   "cell_type": "code",
   "execution_count": 1,
   "id": "4e1bc21c",
   "metadata": {},
   "outputs": [],
   "source": [
    "from gensim import corpora, models\n",
    "from pprint import pprint"
   ]
  },
  {
   "cell_type": "code",
   "execution_count": 2,
   "id": "9102d828",
   "metadata": {},
   "outputs": [],
   "source": [
    "documents = [\n",
    "    \"Artificial intelligence and machine learning are revolutionizing the tech industry.\",\n",
    "    \"The Internet of Things connects devices and enables smart homes.\",\n",
    "    \"Cybersecurity is crucial in today's digital landscape to protect against online threats.\"\n",
    "]"
   ]
  },
  {
   "cell_type": "code",
   "execution_count": 3,
   "id": "62e492fa",
   "metadata": {},
   "outputs": [],
   "source": [
    "# Tokenize and preprocess the documents\n",
    "tokenized_documents = [doc.lower().split() for doc in documents]"
   ]
  },
  {
   "cell_type": "code",
   "execution_count": 4,
   "id": "d0a16b85",
   "metadata": {},
   "outputs": [],
   "source": [
    "# Create a dictionary and corpus\n",
    "dictionary = corpora.Dictionary(tokenized_documents)\n",
    "corpus = [dictionary.doc2bow(doc) for doc in tokenized_documents]"
   ]
  },
  {
   "cell_type": "code",
   "execution_count": 6,
   "id": "345f6b7b",
   "metadata": {},
   "outputs": [],
   "source": [
    "# Build the LDA model\n",
    "lda_model = models.LdaModel(corpus, num_topics=3,id2word=dictionary, passes=10)"
   ]
  },
  {
   "cell_type": "code",
   "execution_count": 7,
   "id": "ead5e02d",
   "metadata": {},
   "outputs": [
    {
     "name": "stdout",
     "output_type": "stream",
     "text": [
      "[(0,\n",
      "  '0.042*\"tech\" + 0.042*\"intelligence\" + 0.042*\"industry.\" + '\n",
      "  '0.042*\"artificial\" + 0.042*\"machine\"'),\n",
      " (1,\n",
      "  '0.067*\"and\" + 0.067*\"the\" + 0.067*\"things\" + 0.067*\"smart\" + '\n",
      "  '0.067*\"internet\"'),\n",
      " (2,\n",
      "  '0.034*\"the\" + 0.034*\"devices\" + 0.034*\"enables\" + 0.033*\"of\" + 0.033*\"and\"')]\n"
     ]
    }
   ],
   "source": [
    "# Print the topics and associated words\n",
    "pprint(lda_model.print_topics(num_words=5))"
   ]
  },
  {
   "cell_type": "code",
   "execution_count": 8,
   "id": "00f5c577",
   "metadata": {},
   "outputs": [
    {
     "name": "stdout",
     "output_type": "stream",
     "text": [
      "Document 1: [(0, 0.9367447), (1, 0.032226354), (2, 0.031028917)]\n",
      "Document 2: [(0, 0.030942805), (1, 0.9383053), (2, 0.030751828)]\n",
      "Document 3: [(0, 0.9478095), (1, 0.025926992), (2, 0.026263498)]\n"
     ]
    }
   ],
   "source": [
    "# Get the topic distribution for each document\n",
    "for i, doc in enumerate(corpus):\n",
    "    print(f\"Document {i + 1}: {lda_model[doc]}\")"
   ]
  },
  {
   "cell_type": "code",
   "execution_count": 9,
   "id": "31a61386",
   "metadata": {},
   "outputs": [
    {
     "name": "stdout",
     "output_type": "stream",
     "text": [
      "Coherence Score: 0.18733377511418836\n"
     ]
    }
   ],
   "source": [
    "from gensim.models import CoherenceModel\n",
    "\n",
    "# Calculate coherence score\n",
    "coherence_model = CoherenceModel(model=lda_model, texts=tokenized_documents, dictionary=dictionary, coherence='c_v')\n",
    "coherence_score = coherence_model.get_coherence()\n",
    "\n",
    "print(f\"Coherence Score: {coherence_score}\")"
   ]
  },
  {
   "cell_type": "code",
   "execution_count": 10,
   "id": "5081afd5",
   "metadata": {},
   "outputs": [
    {
     "name": "stdout",
     "output_type": "stream",
     "text": [
      "Num Topics: 2, Passes: 5, Alpha: symmetric, Beta: auto, Coherence Score: 0.05620726022381424\n",
      "Num Topics: 2, Passes: 5, Alpha: symmetric, Beta: 0.01, Coherence Score: 0.05620726022381423\n",
      "Num Topics: 2, Passes: 5, Alpha: symmetric, Beta: 0.1, Coherence Score: 0.2210529146739672\n",
      "Num Topics: 2, Passes: 5, Alpha: symmetric, Beta: 0.2, Coherence Score: 0.2528970325593752\n",
      "Num Topics: 2, Passes: 5, Alpha: symmetric, Beta: 0.3, Coherence Score: 0.25846183391514665\n",
      "Num Topics: 2, Passes: 5, Alpha: 0.01, Beta: auto, Coherence Score: 0.15151569193908299\n",
      "Num Topics: 2, Passes: 5, Alpha: 0.01, Beta: 0.01, Coherence Score: 0.3309037726859918\n",
      "Num Topics: 2, Passes: 5, Alpha: 0.01, Beta: 0.1, Coherence Score: 0.05620726022381421\n",
      "Num Topics: 2, Passes: 5, Alpha: 0.01, Beta: 0.2, Coherence Score: 0.19525716331490806\n",
      "Num Topics: 2, Passes: 5, Alpha: 0.01, Beta: 0.3, Coherence Score: 0.11782497886501994\n",
      "Num Topics: 2, Passes: 5, Alpha: 0.1, Beta: auto, Coherence Score: 0.294496597919012\n",
      "Num Topics: 2, Passes: 5, Alpha: 0.1, Beta: 0.01, Coherence Score: 0.26158056262757\n",
      "Num Topics: 2, Passes: 5, Alpha: 0.1, Beta: 0.1, Coherence Score: 0.3123838929718528\n",
      "Num Topics: 2, Passes: 5, Alpha: 0.1, Beta: 0.2, Coherence Score: 0.2584618339151467\n",
      "Num Topics: 2, Passes: 5, Alpha: 0.1, Beta: 0.3, Coherence Score: 0.3123838929718528\n",
      "Num Topics: 2, Passes: 5, Alpha: 0.2, Beta: auto, Coherence Score: 0.3123838929718528\n",
      "Num Topics: 2, Passes: 5, Alpha: 0.2, Beta: 0.01, Coherence Score: 0.31792673062068133\n",
      "Num Topics: 2, Passes: 5, Alpha: 0.2, Beta: 0.1, Coherence Score: 0.31238389297185276\n",
      "Num Topics: 2, Passes: 5, Alpha: 0.2, Beta: 0.2, Coherence Score: 0.25908044782405537\n",
      "Num Topics: 2, Passes: 5, Alpha: 0.2, Beta: 0.3, Coherence Score: 0.05620726022381423\n",
      "Num Topics: 2, Passes: 5, Alpha: 0.3, Beta: auto, Coherence Score: 0.31238389297185276\n",
      "Num Topics: 2, Passes: 5, Alpha: 0.3, Beta: 0.01, Coherence Score: 0.05620726022381423\n",
      "Num Topics: 2, Passes: 5, Alpha: 0.3, Beta: 0.1, Coherence Score: 0.25648261889031443\n",
      "Num Topics: 2, Passes: 5, Alpha: 0.3, Beta: 0.2, Coherence Score: 0.2584618339151467\n",
      "Num Topics: 2, Passes: 5, Alpha: 0.3, Beta: 0.3, Coherence Score: 0.2564826188903146\n",
      "Num Topics: 2, Passes: 5, Alpha: auto, Beta: auto, Coherence Score: 0.11782497886501994\n",
      "Num Topics: 2, Passes: 5, Alpha: auto, Beta: 0.01, Coherence Score: 0.25846183391514677\n",
      "Num Topics: 2, Passes: 5, Alpha: auto, Beta: 0.1, Coherence Score: 0.05620726022381423\n",
      "Num Topics: 2, Passes: 5, Alpha: auto, Beta: 0.2, Coherence Score: 0.05620726022381421\n",
      "Num Topics: 2, Passes: 5, Alpha: auto, Beta: 0.3, Coherence Score: 0.25846183391514677\n",
      "Num Topics: 2, Passes: 10, Alpha: symmetric, Beta: auto, Coherence Score: 0.22105291467396715\n",
      "Num Topics: 2, Passes: 10, Alpha: symmetric, Beta: 0.01, Coherence Score: 0.13005385834276317\n",
      "Num Topics: 2, Passes: 10, Alpha: symmetric, Beta: 0.1, Coherence Score: 0.13005385834276317\n",
      "Num Topics: 2, Passes: 10, Alpha: symmetric, Beta: 0.2, Coherence Score: 0.2528970325593752\n",
      "Num Topics: 2, Passes: 10, Alpha: symmetric, Beta: 0.3, Coherence Score: 0.29449659791901195\n",
      "Num Topics: 2, Passes: 10, Alpha: 0.01, Beta: auto, Coherence Score: 0.3309037726859917\n",
      "Num Topics: 2, Passes: 10, Alpha: 0.01, Beta: 0.01, Coherence Score: 0.1952571633149081\n",
      "Num Topics: 2, Passes: 10, Alpha: 0.01, Beta: 0.1, Coherence Score: 0.1952571633149081\n",
      "Num Topics: 2, Passes: 10, Alpha: 0.01, Beta: 0.2, Coherence Score: 0.3182942631151782\n",
      "Num Topics: 2, Passes: 10, Alpha: 0.01, Beta: 0.3, Coherence Score: 0.19525716331490814\n",
      "Num Topics: 2, Passes: 10, Alpha: 0.1, Beta: auto, Coherence Score: 0.25289703255937523\n",
      "Num Topics: 2, Passes: 10, Alpha: 0.1, Beta: 0.01, Coherence Score: 0.25846183391514665\n",
      "Num Topics: 2, Passes: 10, Alpha: 0.1, Beta: 0.1, Coherence Score: 0.3019507500713716\n",
      "Num Topics: 2, Passes: 10, Alpha: 0.1, Beta: 0.2, Coherence Score: 0.05620726022381423\n",
      "Num Topics: 2, Passes: 10, Alpha: 0.1, Beta: 0.3, Coherence Score: 0.25289703255937535\n",
      "Num Topics: 2, Passes: 10, Alpha: 0.2, Beta: auto, Coherence Score: 0.31238389297185276\n",
      "Num Topics: 2, Passes: 10, Alpha: 0.2, Beta: 0.01, Coherence Score: 0.26158056262756996\n",
      "Num Topics: 2, Passes: 10, Alpha: 0.2, Beta: 0.1, Coherence Score: 0.3179267306206812\n",
      "Num Topics: 2, Passes: 10, Alpha: 0.2, Beta: 0.2, Coherence Score: 0.2584618339151467\n",
      "Num Topics: 2, Passes: 10, Alpha: 0.2, Beta: 0.3, Coherence Score: 0.2528970325593752\n",
      "Num Topics: 2, Passes: 10, Alpha: 0.3, Beta: auto, Coherence Score: 0.25846183391514677\n",
      "Num Topics: 2, Passes: 10, Alpha: 0.3, Beta: 0.01, Coherence Score: 0.13005385834276317\n",
      "Num Topics: 2, Passes: 10, Alpha: 0.3, Beta: 0.1, Coherence Score: 0.31238389297185276\n",
      "Num Topics: 2, Passes: 10, Alpha: 0.3, Beta: 0.2, Coherence Score: 0.13005385834276317\n",
      "Num Topics: 2, Passes: 10, Alpha: 0.3, Beta: 0.3, Coherence Score: 0.25648261889031454\n",
      "Num Topics: 2, Passes: 10, Alpha: auto, Beta: auto, Coherence Score: 0.25648261889031454\n",
      "Num Topics: 2, Passes: 10, Alpha: auto, Beta: 0.01, Coherence Score: 0.05620726022381421\n",
      "Num Topics: 2, Passes: 10, Alpha: auto, Beta: 0.1, Coherence Score: 0.31238389297185276\n",
      "Num Topics: 2, Passes: 10, Alpha: auto, Beta: 0.2, Coherence Score: 0.05620726022381421\n",
      "Num Topics: 2, Passes: 10, Alpha: auto, Beta: 0.3, Coherence Score: 0.2584618339151467\n",
      "Num Topics: 3, Passes: 5, Alpha: symmetric, Beta: auto, Coherence Score: 0.21506681868727937\n",
      "Num Topics: 3, Passes: 5, Alpha: symmetric, Beta: 0.01, Coherence Score: 0.277061369005564\n",
      "Num Topics: 3, Passes: 5, Alpha: symmetric, Beta: 0.1, Coherence Score: 0.2191890955303993\n",
      "Num Topics: 3, Passes: 5, Alpha: symmetric, Beta: 0.2, Coherence Score: 0.1422249865446757\n",
      "Num Topics: 3, Passes: 5, Alpha: symmetric, Beta: 0.3, Coherence Score: 0.28118364584868394\n",
      "Num Topics: 3, Passes: 5, Alpha: 0.01, Beta: auto, Coherence Score: 0.2395997772424656\n",
      "Num Topics: 3, Passes: 5, Alpha: 0.01, Beta: 0.01, Coherence Score: 0.23959977724246562\n",
      "Num Topics: 3, Passes: 5, Alpha: 0.01, Beta: 0.1, Coherence Score: 0.20845315697404135\n",
      "Num Topics: 3, Passes: 5, Alpha: 0.01, Beta: 0.2, Coherence Score: 0.23522374700396545\n",
      "Num Topics: 3, Passes: 5, Alpha: 0.01, Beta: 0.3, Coherence Score: 0.2395997772424656\n",
      "Num Topics: 3, Passes: 5, Alpha: 0.1, Beta: auto, Coherence Score: 0.3080104848855021\n",
      "Num Topics: 3, Passes: 5, Alpha: 0.1, Beta: 0.01, Coherence Score: 0.30924008406690323\n",
      "Num Topics: 3, Passes: 5, Alpha: 0.1, Beta: 0.1, Coherence Score: 0.2595475506111062\n",
      "Num Topics: 3, Passes: 5, Alpha: 0.1, Beta: 0.2, Coherence Score: 0.3195758795093432\n",
      "Num Topics: 3, Passes: 5, Alpha: 0.1, Beta: 0.3, Coherence Score: 0.3130094083767014\n",
      "Num Topics: 3, Passes: 5, Alpha: 0.2, Beta: auto, Coherence Score: 0.26632409604697443\n",
      "Num Topics: 3, Passes: 5, Alpha: 0.2, Beta: 0.01, Coherence Score: 0.23111395889895983\n",
      "Num Topics: 3, Passes: 5, Alpha: 0.2, Beta: 0.1, Coherence Score: 0.23011395225632017\n",
      "Num Topics: 3, Passes: 5, Alpha: 0.2, Beta: 0.2, Coherence Score: 0.3133788651980105\n",
      "Num Topics: 3, Passes: 5, Alpha: 0.2, Beta: 0.3, Coherence Score: 0.3170740902972295\n",
      "Num Topics: 3, Passes: 5, Alpha: 0.3, Beta: auto, Coherence Score: 0.31258235663280043\n",
      "Num Topics: 3, Passes: 5, Alpha: 0.3, Beta: 0.01, Coherence Score: 0.19516591952782258\n",
      "Num Topics: 3, Passes: 5, Alpha: 0.3, Beta: 0.1, Coherence Score: 0.31337886519801045\n",
      "Num Topics: 3, Passes: 5, Alpha: 0.3, Beta: 0.2, Coherence Score: 0.21506681868727937\n",
      "Num Topics: 3, Passes: 5, Alpha: 0.3, Beta: 0.3, Coherence Score: 0.23480918399817893\n",
      "Num Topics: 3, Passes: 5, Alpha: auto, Beta: auto, Coherence Score: 0.31467615157904444\n",
      "Num Topics: 3, Passes: 5, Alpha: auto, Beta: 0.01, Coherence Score: 0.32046517162450744\n",
      "Num Topics: 3, Passes: 5, Alpha: auto, Beta: 0.1, Coherence Score: 0.24266509898462793\n",
      "Num Topics: 3, Passes: 5, Alpha: auto, Beta: 0.2, Coherence Score: 0.13422656946332237\n",
      "Num Topics: 3, Passes: 5, Alpha: auto, Beta: 0.3, Coherence Score: 0.24266509898462804\n",
      "Num Topics: 3, Passes: 10, Alpha: symmetric, Beta: auto, Coherence Score: 0.3125823566328004\n",
      "Num Topics: 3, Passes: 10, Alpha: symmetric, Beta: 0.01, Coherence Score: 0.2799326150389868\n",
      "Num Topics: 3, Passes: 10, Alpha: symmetric, Beta: 0.1, Coherence Score: 0.2787281122079071\n",
      "Num Topics: 3, Passes: 10, Alpha: symmetric, Beta: 0.2, Coherence Score: 0.2351786408194881\n",
      "Num Topics: 3, Passes: 10, Alpha: symmetric, Beta: 0.3, Coherence Score: 0.18733377511418828\n",
      "Num Topics: 3, Passes: 10, Alpha: 0.01, Beta: auto, Coherence Score: 0.23959977724246553\n",
      "Num Topics: 3, Passes: 10, Alpha: 0.01, Beta: 0.01, Coherence Score: 0.2376141378912581\n",
      "Num Topics: 3, Passes: 10, Alpha: 0.01, Beta: 0.1, Coherence Score: 0.328045210805314\n",
      "Num Topics: 3, Passes: 10, Alpha: 0.01, Beta: 0.2, Coherence Score: 0.23761413789125818\n",
      "Num Topics: 3, Passes: 10, Alpha: 0.01, Beta: 0.3, Coherence Score: 0.2376141378912581\n",
      "Num Topics: 3, Passes: 10, Alpha: 0.1, Beta: auto, Coherence Score: 0.272939092162444\n",
      "Num Topics: 3, Passes: 10, Alpha: 0.1, Beta: 0.01, Coherence Score: 0.3187984284221643\n",
      "Num Topics: 3, Passes: 10, Alpha: 0.1, Beta: 0.1, Coherence Score: 0.26478012945495766\n",
      "Num Topics: 3, Passes: 10, Alpha: 0.1, Beta: 0.2, Coherence Score: 0.2278392993095866\n",
      "Num Topics: 3, Passes: 10, Alpha: 0.1, Beta: 0.3, Coherence Score: 0.18733377511418833\n",
      "Num Topics: 3, Passes: 10, Alpha: 0.2, Beta: auto, Coherence Score: 0.18733377511418828\n",
      "Num Topics: 3, Passes: 10, Alpha: 0.2, Beta: 0.01, Coherence Score: 0.3167046334759203\n",
      "Num Topics: 3, Passes: 10, Alpha: 0.2, Beta: 0.1, Coherence Score: 0.28570699261315463\n",
      "Num Topics: 3, Passes: 10, Alpha: 0.2, Beta: 0.2, Coherence Score: 0.1918255087786174\n",
      "Num Topics: 3, Passes: 10, Alpha: 0.2, Beta: 0.3, Coherence Score: 0.18733377511418817\n",
      "Num Topics: 3, Passes: 10, Alpha: 0.3, Beta: auto, Coherence Score: 0.19104364268470253\n",
      "Num Topics: 3, Passes: 10, Alpha: 0.3, Beta: 0.01, Coherence Score: 0.27625711991362517\n",
      "Num Topics: 3, Passes: 10, Alpha: 0.3, Beta: 0.1, Coherence Score: 0.26749720625123824\n",
      "Num Topics: 3, Passes: 10, Alpha: 0.3, Beta: 0.2, Coherence Score: 0.3133788651980105\n",
      "Num Topics: 3, Passes: 10, Alpha: 0.3, Beta: 0.3, Coherence Score: 0.18733377511418825\n",
      "Num Topics: 3, Passes: 10, Alpha: auto, Beta: auto, Coherence Score: 0.30924008406690323\n",
      "Num Topics: 3, Passes: 10, Alpha: auto, Beta: 0.01, Coherence Score: 0.19047068778596365\n",
      "Num Topics: 3, Passes: 10, Alpha: auto, Beta: 0.1, Coherence Score: 0.2787281122079071\n",
      "Num Topics: 3, Passes: 10, Alpha: auto, Beta: 0.2, Coherence Score: 0.29696226816502086\n",
      "Num Topics: 3, Passes: 10, Alpha: auto, Beta: 0.3, Coherence Score: 0.3027512882104839\n",
      "\n",
      "Best Parameters:\n",
      "Num Topics: 2, Passes: 5, Alpha: 0.01, Beta: 0.01\n",
      "Max Coherence Score: 0.3309037726859918\n"
     ]
    }
   ],
   "source": [
    "max_coherence_score = -1\n",
    "best_params = {}\n",
    "\n",
    "alpha_values = ['symmetric',0.01,0.1,0.2,0.3,'auto']\n",
    "beta_values = ['auto', 0.01, 0.1,0.2,0.3]\n",
    "\n",
    "for num_topics in range(2, 4):\n",
    "    for passes in [5, 10]:\n",
    "        for alpha in alpha_values:\n",
    "            for beta in beta_values:\n",
    "                lda_model = models.LdaModel(corpus, num_topics=num_topics, id2word=dictionary, passes=passes, alpha=alpha, eta=beta)\n",
    "                coherence_model = CoherenceModel(model=lda_model, texts=tokenized_documents, dictionary=dictionary, coherence='c_v')\n",
    "                coherence_score = coherence_model.get_coherence()\n",
    "\n",
    "                print(f\"Num Topics: {num_topics}, Passes: {passes}, Alpha: {alpha}, Beta: {beta}, Coherence Score: {coherence_score}\")\n",
    "\n",
    "                # Update max coherence score and best parameters\n",
    "                if coherence_score > max_coherence_score:\n",
    "                    max_coherence_score = coherence_score\n",
    "                    best_params = {'num_topics': num_topics, 'passes': passes, 'alpha': alpha, 'beta': beta}\n",
    "\n",
    "print(\"\\nBest Parameters:\")\n",
    "print(f\"Num Topics: {best_params['num_topics']}, Passes: {best_params['passes']}, Alpha: {best_params['alpha']}, Beta: {best_params['beta']}\")\n",
    "print(f\"Max Coherence Score: {max_coherence_score}\")\n"
   ]
  },
  {
   "cell_type": "code",
   "execution_count": 14,
   "id": "7f330b47",
   "metadata": {},
   "outputs": [],
   "source": [
    "# Build the LDA model\n",
    "lda_model = models.LdaModel(corpus, num_topics=2,id2word=dictionary, passes=5,alpha = 0.01,eta = 0.01)"
   ]
  },
  {
   "cell_type": "code",
   "execution_count": 15,
   "id": "5b46f08e",
   "metadata": {},
   "outputs": [
    {
     "name": "stdout",
     "output_type": "stream",
     "text": [
      "[(0,\n",
      "  '0.045*\"digital\" + 0.045*\"is\" + 0.045*\"devices\" + 0.045*\"the\" + '\n",
      "  '0.045*\"smart\"'),\n",
      " (1,\n",
      "  '0.098*\"the\" + 0.098*\"intelligence\" + 0.098*\"and\" + 0.098*\"revolutionizing\" '\n",
      "  '+ 0.098*\"learning\"')]\n"
     ]
    }
   ],
   "source": [
    "# Print the topics and associated words\n",
    "pprint(lda_model.print_topics(num_words=5))"
   ]
  },
  {
   "cell_type": "code",
   "execution_count": 16,
   "id": "40079f4b",
   "metadata": {},
   "outputs": [
    {
     "name": "stdout",
     "output_type": "stream",
     "text": [
      "Document 1: [(1, 0.999002)]\n",
      "Document 2: [(0, 0.999002)]\n",
      "Document 3: [(0, 0.99916804)]\n"
     ]
    }
   ],
   "source": [
    "# Get the topic distribution for each document\n",
    "for i, doc in enumerate(corpus):\n",
    "    print(f\"Document {i + 1}: {lda_model[doc]}\")"
   ]
  },
  {
   "cell_type": "code",
   "execution_count": 20,
   "id": "78d93002",
   "metadata": {},
   "outputs": [
    {
     "data": {
      "text/html": [
       "\n",
       "<link rel=\"stylesheet\" type=\"text/css\" href=\"https://cdn.jsdelivr.net/gh/bmabey/pyLDAvis@3.4.0/pyLDAvis/js/ldavis.v1.0.0.css\">\n",
       "\n",
       "\n",
       "<div id=\"ldavis_el824822281133602563761260805\" style=\"background-color:white;\"></div>\n",
       "<script type=\"text/javascript\">\n",
       "\n",
       "var ldavis_el824822281133602563761260805_data = {\"mdsDat\": {\"x\": [0.2725735947287838, -0.2725735947287838], \"y\": [0.0, 0.0], \"topics\": [1, 2], \"cluster\": [1, 1], \"Freq\": [68.71880183796675, 31.281198162033252]}, \"tinfo\": {\"Term\": [\"intelligence\", \"artificial\", \"industry.\", \"learning\", \"machine\", \"revolutionizing\", \"tech\", \"are\", \"and\", \"the\", \"to\", \"devices\", \"protect\", \"landscape\", \"smart\", \"is\", \"digital\", \"online\", \"cybersecurity\", \"of\", \"crucial\", \"against\", \"things\", \"homes.\", \"enables\", \"connects\", \"today's\", \"in\", \"internet\", \"threats.\", \"smart\", \"to\", \"protect\", \"landscape\", \"is\", \"digital\", \"devices\", \"of\", \"online\", \"cybersecurity\", \"crucial\", \"against\", \"things\", \"today's\", \"homes.\", \"enables\", \"connects\", \"internet\", \"in\", \"threats.\", \"the\", \"and\", \"are\", \"tech\", \"revolutionizing\", \"machine\", \"learning\", \"industry.\", \"artificial\", \"intelligence\", \"intelligence\", \"tech\", \"artificial\", \"industry.\", \"learning\", \"machine\", \"revolutionizing\", \"are\", \"and\", \"the\", \"threats.\", \"in\", \"internet\", \"online\", \"cybersecurity\", \"against\", \"crucial\", \"of\", \"things\", \"homes.\", \"enables\", \"connects\", \"today's\", \"smart\", \"digital\", \"is\", \"landscape\", \"devices\", \"protect\", \"to\"], \"Freq\": [0.0, 0.0, 0.0, 0.0, 0.0, 0.0, 0.0, 0.0, 1.0, 1.0, 1.0, 1.0, 1.0, 1.0, 1.0, 1.0, 1.0, 1.0, 1.0, 1.0, 1.0, 1.0, 1.0, 1.0, 1.0, 1.0, 1.0, 1.0, 1.0, 1.0, 0.9959607048572899, 0.9959607048572899, 0.9959607048572899, 0.9959607048572899, 0.9959607048572899, 0.9959607048572899, 0.9959607048572899, 0.9959606229380955, 0.9959606229380955, 0.9959606229380955, 0.9959606229380955, 0.9959606229380955, 0.9959606229380955, 0.9959606229380955, 0.9959606229380955, 0.9959606229380955, 0.9959606229380955, 0.9959604590997067, 0.9959604590997067, 0.9959604590997067, 0.9959607048572899, 0.9959606229380955, 0.009861040952215, 0.009861040952215, 0.009861040952215, 0.009861040952215, 0.009861040952215, 0.009861040952215, 0.009861040952215, 0.009861040952215, 0.981561404575926, 0.9815613299957386, 0.9815613299957386, 0.9815613299957386, 0.9815613299957386, 0.9815613299957386, 0.9815613299957386, 0.9815611808353641, 0.981561404575926, 0.981561404575926, 0.00971845156044296, 0.00971845156044296, 0.00971845156044296, 0.00971845156044296, 0.00971845156044296, 0.00971845156044296, 0.00971845156044296, 0.00971845156044296, 0.00971845156044296, 0.00971845156044296, 0.00971845156044296, 0.00971845156044296, 0.00971845156044296, 0.00971845156044296, 0.00971845156044296, 0.00971845156044296, 0.00971845156044296, 0.00971845156044296, 0.00971845156044296, 0.00971845156044296], \"Total\": [0.0, 0.0, 0.0, 0.0, 0.0, 0.0, 0.0, 0.0, 1.0, 1.0, 1.0, 1.0, 1.0, 1.0, 1.0, 1.0, 1.0, 1.0, 1.0, 1.0, 1.0, 1.0, 1.0, 1.0, 1.0, 1.0, 1.0, 1.0, 1.0, 1.0, 1.005679156417733, 1.005679156417733, 1.005679156417733, 1.005679156417733, 1.005679156417733, 1.005679156417733, 1.005679156417733, 1.0056790744985384, 1.0056790744985384, 1.0056790744985384, 1.0056790744985384, 1.0056790744985384, 1.0056790744985384, 1.0056790744985384, 1.0056790744985384, 1.0056790744985384, 1.0056790744985384, 1.0056789106601496, 1.0056789106601496, 1.0056789106601496, 1.9775221094332158, 1.9775220275140215, 0.9914222217875791, 0.9914223709479536, 0.9914223709479536, 0.9914223709479536, 0.9914223709479536, 0.9914223709479536, 0.9914223709479536, 0.991422445528141, 0.991422445528141, 0.9914223709479536, 0.9914223709479536, 0.9914223709479536, 0.9914223709479536, 0.9914223709479536, 0.9914223709479536, 0.9914222217875791, 1.9775220275140215, 1.9775221094332158, 1.0056789106601496, 1.0056789106601496, 1.0056789106601496, 1.0056790744985384, 1.0056790744985384, 1.0056790744985384, 1.0056790744985384, 1.0056790744985384, 1.0056790744985384, 1.0056790744985384, 1.0056790744985384, 1.0056790744985384, 1.0056790744985384, 1.005679156417733, 1.005679156417733, 1.005679156417733, 1.005679156417733, 1.005679156417733, 1.005679156417733, 1.005679156417733], \"Category\": [\"Default\", \"Default\", \"Default\", \"Default\", \"Default\", \"Default\", \"Default\", \"Default\", \"Default\", \"Default\", \"Default\", \"Default\", \"Default\", \"Default\", \"Default\", \"Default\", \"Default\", \"Default\", \"Default\", \"Default\", \"Default\", \"Default\", \"Default\", \"Default\", \"Default\", \"Default\", \"Default\", \"Default\", \"Default\", \"Default\", \"Topic1\", \"Topic1\", \"Topic1\", \"Topic1\", \"Topic1\", \"Topic1\", \"Topic1\", \"Topic1\", \"Topic1\", \"Topic1\", \"Topic1\", \"Topic1\", \"Topic1\", \"Topic1\", \"Topic1\", \"Topic1\", \"Topic1\", \"Topic1\", \"Topic1\", \"Topic1\", \"Topic1\", \"Topic1\", \"Topic1\", \"Topic1\", \"Topic1\", \"Topic1\", \"Topic1\", \"Topic1\", \"Topic1\", \"Topic1\", \"Topic2\", \"Topic2\", \"Topic2\", \"Topic2\", \"Topic2\", \"Topic2\", \"Topic2\", \"Topic2\", \"Topic2\", \"Topic2\", \"Topic2\", \"Topic2\", \"Topic2\", \"Topic2\", \"Topic2\", \"Topic2\", \"Topic2\", \"Topic2\", \"Topic2\", \"Topic2\", \"Topic2\", \"Topic2\", \"Topic2\", \"Topic2\", \"Topic2\", \"Topic2\", \"Topic2\", \"Topic2\", \"Topic2\", \"Topic2\"], \"logprob\": [30.0, 29.0, 28.0, 27.0, 26.0, 25.0, 24.0, 23.0, 22.0, 21.0, 20.0, 19.0, 18.0, 17.0, 16.0, 15.0, 14.0, 13.0, 12.0, 11.0, 10.0, 9.0, 8.0, 7.0, 6.0, 5.0, 4.0, 3.0, 2.0, 1.0, -3.0946, -3.0946, -3.0946, -3.0946, -3.0946, -3.0946, -3.0946, -3.0946, -3.0946, -3.0946, -3.0946, -3.0946, -3.0946, -3.0946, -3.0946, -3.0946, -3.0946, -3.0946, -3.0946, -3.0946, -3.0946, -3.0946, -7.7098, -7.7098, -7.7098, -7.7098, -7.7098, -7.7098, -7.7098, -7.7098, -2.3222, -2.3222, -2.3222, -2.3222, -2.3222, -2.3222, -2.3222, -2.3222, -2.3222, -2.3222, -6.9373, -6.9373, -6.9373, -6.9373, -6.9373, -6.9373, -6.9373, -6.9373, -6.9373, -6.9373, -6.9373, -6.9373, -6.9373, -6.9373, -6.9373, -6.9373, -6.9373, -6.9373, -6.9373, -6.9373], \"loglift\": [30.0, 29.0, 28.0, 27.0, 26.0, 25.0, 24.0, 23.0, 22.0, 21.0, 20.0, 19.0, 18.0, 17.0, 16.0, 15.0, 14.0, 13.0, 12.0, 11.0, 10.0, 9.0, 8.0, 7.0, 6.0, 5.0, 4.0, 3.0, 2.0, 1.0, 0.3654, 0.3654, 0.3654, 0.3654, 0.3654, 0.3654, 0.3654, 0.3654, 0.3654, 0.3654, 0.3654, 0.3654, 0.3654, 0.3654, 0.3654, 0.3654, 0.3654, 0.3654, 0.3654, 0.3654, -0.3107, -0.3107, -4.2354, -4.2354, -4.2354, -4.2354, -4.2354, -4.2354, -4.2354, -4.2354, 1.1522, 1.1522, 1.1522, 1.1522, 1.1522, 1.1522, 1.1522, 1.1522, 0.4617, 0.4617, -3.4772, -3.4772, -3.4772, -3.4772, -3.4772, -3.4772, -3.4772, -3.4772, -3.4772, -3.4772, -3.4772, -3.4772, -3.4772, -3.4772, -3.4772, -3.4772, -3.4772, -3.4772, -3.4772, -3.4772]}, \"token.table\": {\"Topic\": [1, 1, 2, 2, 2, 1, 1, 1, 1, 1, 1, 1, 1, 2, 2, 1, 1, 1, 2, 2, 1, 1, 1, 2, 1, 2, 1, 2, 1, 1, 1, 1], \"Freq\": [0.9943529952620619, 0.505683368420992, 0.505683368420992, 1.0086519930902444, 1.008651841337658, 0.9943529952620619, 0.9943529952620619, 0.9943529952620619, 0.9943529142654578, 0.9943529142654578, 0.9943529952620619, 0.9943529952620619, 0.9943531572553095, 1.008651841337658, 1.0086517654613818, 0.9943531572553095, 0.9943529142654578, 0.9943529142654578, 1.008651841337658, 1.008651841337658, 0.9943529952620619, 0.9943529952620619, 0.9943529142654578, 1.008651841337658, 0.9943529142654578, 1.008651841337658, 0.5056833474729713, 0.5056833474729713, 0.9943529952620619, 0.9943531572553095, 0.9943529142654578, 0.9943529952620619], \"Term\": [\"against\", \"and\", \"and\", \"are\", \"artificial\", \"connects\", \"crucial\", \"cybersecurity\", \"devices\", \"digital\", \"enables\", \"homes.\", \"in\", \"industry.\", \"intelligence\", \"internet\", \"is\", \"landscape\", \"learning\", \"machine\", \"of\", \"online\", \"protect\", \"revolutionizing\", \"smart\", \"tech\", \"the\", \"the\", \"things\", \"threats.\", \"to\", \"today's\"]}, \"R\": 30, \"lambda.step\": 0.01, \"plot.opts\": {\"xlab\": \"PC1\", \"ylab\": \"PC2\"}, \"topic.order\": [1, 2]};\n",
       "\n",
       "function LDAvis_load_lib(url, callback){\n",
       "  var s = document.createElement('script');\n",
       "  s.src = url;\n",
       "  s.async = true;\n",
       "  s.onreadystatechange = s.onload = callback;\n",
       "  s.onerror = function(){console.warn(\"failed to load library \" + url);};\n",
       "  document.getElementsByTagName(\"head\")[0].appendChild(s);\n",
       "}\n",
       "\n",
       "if(typeof(LDAvis) !== \"undefined\"){\n",
       "   // already loaded: just create the visualization\n",
       "   !function(LDAvis){\n",
       "       new LDAvis(\"#\" + \"ldavis_el824822281133602563761260805\", ldavis_el824822281133602563761260805_data);\n",
       "   }(LDAvis);\n",
       "}else if(typeof define === \"function\" && define.amd){\n",
       "   // require.js is available: use it to load d3/LDAvis\n",
       "   require.config({paths: {d3: \"https://d3js.org/d3.v5\"}});\n",
       "   require([\"d3\"], function(d3){\n",
       "      window.d3 = d3;\n",
       "      LDAvis_load_lib(\"https://cdn.jsdelivr.net/gh/bmabey/pyLDAvis@3.4.0/pyLDAvis/js/ldavis.v3.0.0.js\", function(){\n",
       "        new LDAvis(\"#\" + \"ldavis_el824822281133602563761260805\", ldavis_el824822281133602563761260805_data);\n",
       "      });\n",
       "    });\n",
       "}else{\n",
       "    // require.js not available: dynamically load d3 & LDAvis\n",
       "    LDAvis_load_lib(\"https://d3js.org/d3.v5.js\", function(){\n",
       "         LDAvis_load_lib(\"https://cdn.jsdelivr.net/gh/bmabey/pyLDAvis@3.4.0/pyLDAvis/js/ldavis.v3.0.0.js\", function(){\n",
       "                 new LDAvis(\"#\" + \"ldavis_el824822281133602563761260805\", ldavis_el824822281133602563761260805_data);\n",
       "            })\n",
       "         });\n",
       "}\n",
       "</script>"
      ],
      "text/plain": [
       "<IPython.core.display.HTML object>"
      ]
     },
     "execution_count": 20,
     "metadata": {},
     "output_type": "execute_result"
    }
   ],
   "source": [
    "import pyLDAvis.gensim_models as gensimvis\n",
    "import pyLDAvis\n",
    "\n",
    "# Visualize topics\n",
    "lda_vis = gensimvis.prepare(lda_model, corpus, dictionary)\n",
    "pyLDAvis.display(lda_vis)\n"
   ]
  }
 ],
 "metadata": {
  "kernelspec": {
   "display_name": "Python 3 (ipykernel)",
   "language": "python",
   "name": "python3"
  },
  "language_info": {
   "codemirror_mode": {
    "name": "ipython",
    "version": 3
   },
   "file_extension": ".py",
   "mimetype": "text/x-python",
   "name": "python",
   "nbconvert_exporter": "python",
   "pygments_lexer": "ipython3",
   "version": "3.11.4"
  }
 },
 "nbformat": 4,
 "nbformat_minor": 5
}
